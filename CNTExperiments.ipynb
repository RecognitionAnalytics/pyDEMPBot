{
 "cells": [
  {
   "cell_type": "code",
   "execution_count": 7,
   "id": "8ae41a24-1f17-49fd-81a1-dc5d89fb5187",
   "metadata": {},
   "outputs": [
    {
     "name": "stdout",
     "output_type": "stream",
     "text": [
      ".Active channels ['N8']\n",
      "\n",
      "Rehydrate_LV_3Output SampleRate (Samples per Second) = 1.0\n",
      "Output slew (V/S) = 0.005\n",
      "................................................................................No Server \n",
      "Rehydrate_IV_3.No Server \n",
      "Rehydrate_DL_3...........................................No Server \n",
      "Rehydrate_DL_3............................................No Server Zeroed\n"
     ]
    }
   ],
   "source": [
    "import time\n",
    "from QuickGraph import QuickGraphs\n",
    "from DempBotLib import DempBot\n",
    "\n",
    "with QuickGraphs() as quickGraphs :\n",
    "    dempBot = DempBot(r\"C:\\DempBot_Settings\\DempBotSettings\\Channels.json\",r\"E:\\DataFolder\",quickGraphs)\n",
    "    dempBot.Experiment( \\\n",
    "        wafer=\"W087\",\n",
    "        chip=\"E3\",\n",
    "        notes =\"\"\"5 mincyst, APTES, \"\"\", \n",
    "        tags = \"5 min Cyst, semiconduct\"\n",
    "    )\n",
    "\n",
    "    shorted,activeChannels=dempBot.CheckShorted()\n",
    "    \n",
    "    analyte='Rehydrate'\n",
    "    startTime = time.time()\n",
    "    dl_Voltage=.1\n",
    "    min_2_hr=1.0/60\n",
    "    \n",
    "    #dempBot.RT_Measure(analyte=f'{analyte}_RT_{i}', bias_V=.1, measureTime_S=120)\n",
    "    if False:  #  initial experiments to do quick datapoints \n",
    "        i=3\n",
    "        #dempBot.IV_Measure(analyte=f\"{analyte}_IV_{i}\", maxVoltage_V=0.5 , slew_V_S=5, cycles=50, filteredSampleRate=10000)\n",
    "        dempBot.RT_Measure(analyte=f'{analyte}_RT_{i}', bias_V=.2, measureTime_S=30)\n",
    "        dempBot.IV_Measure(analyte=f\"{analyte}_IV_{i}\", maxVoltage_V=0.2 , slew_V_S=.1, cycles=2, filteredSampleRate = 1000)\n",
    "        dempBot.DL_Measure(analyte=f'{analyte}_DL_{i}', bias_V=0.2, measureTime_Hr=5/60.0, samplePeriod_s=1 , dead_time_s=0)\n",
    "    elif True:\n",
    "        dempBot.LIV_Measure(analyte=f\"{analyte}_LV_{i}\", maxVoltage_V=0.1, secondsPerPoint=1)\n",
    "        dempBot.IV_Measure(analyte=f\"{analyte}_IV_{i}\", maxVoltage_V=0.1, slew_V_S=0.5, filteredSampleRate=2000)\n",
    "        dempBot.DL_Measure(analyte=f'{analyte}_DL_{i}', bias_V=0.1, measureTime_Hr=1/60.0, samplePeriod_s=1 , dead_time_s=0)\n",
    "        dempBot.DL_Measure(analyte=f'{analyte}_DL_{i}', bias_V=0.2, measureTime_Hr=1/60.0, samplePeriod_s=1 , dead_time_s=0)\n",
    "    elif True:\n",
    "        dempBot.DL_Measure(analyte=f'{analyte}_DL_pv_{i}', bias_V=0.2, measureTime_Hr=5*min_2_hr, samplePeriod_s=.2, dead_time_s=0)\n",
    "        time.sleep(30)\n",
    "        dempBot.DL_Measure(analyte=f'{analyte}_DL_nv_{i}', bias_V=-0.2, measureTime_Hr=5*min_2_hr, samplePeriod_s=.2, dead_time_s=0)\n",
    "        dempBot.Zero()\n",
    "        dempBot.LIV_Measure(analyte=f\"{analyte}_LV_{i}\", maxVoltage_V=0.1, secondsPerPoint=1)\n",
    "        dempBot.RT_Measure(analyte=f'{analyte}_RT_{i}', bias_V=0.2, measureTime_S=30)\n",
    "        dempBot.IV_Measure(analyte=f\"{analyte}_IV_{i}\", maxVoltage_V=0.1, slew_V_S=0.5, filteredSampleRate=2000)\n",
    "    else:  #overnight measurement\n",
    "        for i in range(0,3):\n",
    "            print('-Hour ' + str(i))\n",
    "            dempBot.IV_Measure(analyte=f\"{analyte}_IV_{i}\", maxVoltage_V=0.1, slew_V_S=0.05, filteredSampleRate=2000)\n",
    "            dempBot.RT_Measure(analyte=f'{analyte}_RT_{i}', bias_V=0.1, measureTime_S=30)\n",
    "            dempBot.DL_Measure(analyte=f'{analyte}_DL_pv_{i}', bias_V=0.1, measureTime_Hr=5*min_2_hr, samplePeriod_s=.2, dead_time_s=0)\n",
    "            dempBot.Zero()\n",
    "            time.sleep(300)\n",
    "            dempBot.DL_Measure(analyte=f'{analyte}_DL_nv_{i}', bias_V= -0.1, measureTime_Hr=5*min_2_hr, samplePeriod_s=.2, dead_time_s=0)\n",
    "            dempBot.Zero()\n",
    "            dempBot.LIV_Measure(analyte=f\"{analyte}_LV_{i}\", maxVoltage_V=0.1, secondsPerPoint=1)\n",
    "            dempBot.Zero()\n",
    "            \n",
    "    \n",
    "    #clear the output voltages before leaving\n",
    "    print('Zeroed')\n",
    "    dempBot.Zero()"
   ]
  },
  {
   "cell_type": "code",
   "execution_count": 2,
   "id": "43a4f0df-f28e-4af9-ae90-1142a675777a",
   "metadata": {},
   "outputs": [],
   "source": [
    "dempBot.Zero()"
   ]
  },
  {
   "cell_type": "code",
   "execution_count": null,
   "id": "6bf84973-7928-4fe5-a254-069c12d9cfdd",
   "metadata": {},
   "outputs": [],
   "source": []
  }
 ],
 "metadata": {
  "kernelspec": {
   "display_name": "Python 3 (ipykernel)",
   "language": "python",
   "name": "python3"
  },
  "language_info": {
   "codemirror_mode": {
    "name": "ipython",
    "version": 3
   },
   "file_extension": ".py",
   "mimetype": "text/x-python",
   "name": "python",
   "nbconvert_exporter": "python",
   "pygments_lexer": "ipython3",
   "version": "3.11.5"
  }
 },
 "nbformat": 4,
 "nbformat_minor": 5
}
